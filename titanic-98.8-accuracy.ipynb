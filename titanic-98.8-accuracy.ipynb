{
 "cells": [
  {
   "cell_type": "code",
   "execution_count": 1,
   "metadata": {
    "_cell_guid": "b1076dfc-b9ad-4769-8c92-a6c4dae69d19",
    "_uuid": "8f2839f25d086af736a60e9eeb907d3b93b6e0e5",
    "execution": {
     "iopub.execute_input": "2020-10-29T19:29:33.704510Z",
     "iopub.status.busy": "2020-10-29T19:29:33.703589Z",
     "iopub.status.idle": "2020-10-29T19:29:33.710796Z",
     "shell.execute_reply": "2020-10-29T19:29:33.709895Z"
    },
    "papermill": {
     "duration": 0.028249,
     "end_time": "2020-10-29T19:29:33.710979",
     "exception": false,
     "start_time": "2020-10-29T19:29:33.682730",
     "status": "completed"
    },
    "tags": []
   },
   "outputs": [
    {
     "name": "stdout",
     "output_type": "stream",
     "text": [
      "/kaggle/input/titanic/train.csv\n",
      "/kaggle/input/titanic/gender_submission.csv\n",
      "/kaggle/input/titanic/test.csv\n"
     ]
    }
   ],
   "source": [
    "# This Python 3 environment comes with many helpful analytics libraries installed\n",
    "# It is defined by the kaggle/python Docker image: https://github.com/kaggle/docker-python\n",
    "# For example, here's several helpful packages to load\n",
    "\n",
    "import numpy as np # linear algebra\n",
    "import pandas as pd # data processing, CSV file I/O (e.g. pd.read_csv)\n",
    "\n",
    "# Input data files are available in the read-only \"../input/\" directory\n",
    "# For example, running this (by clicking run or pressing Shift+Enter) will list all files under the input directory\n",
    "\n",
    "import os\n",
    "for dirname, _, filenames in os.walk('/kaggle/input'):\n",
    "    for filename in filenames:\n",
    "        print(os.path.join(dirname, filename))\n",
    "\n",
    "# You can write up to 20GB to the current directory (/kaggle/working/) that gets preserved as output when you create a version using \"Save & Run All\" \n",
    "# You can also write temporary files to /kaggle/temp/, but they won't be saved outside of the current session"
   ]
  },
  {
   "cell_type": "code",
   "execution_count": 2,
   "metadata": {
    "_cell_guid": "79c7e3d0-c299-4dcb-8224-4455121ee9b0",
    "_uuid": "d629ff2d2480ee46fbb7e2d37f6b5fab8052498a",
    "execution": {
     "iopub.execute_input": "2020-10-29T19:29:33.743468Z",
     "iopub.status.busy": "2020-10-29T19:29:33.742595Z",
     "iopub.status.idle": "2020-10-29T19:29:35.317540Z",
     "shell.execute_reply": "2020-10-29T19:29:35.316762Z"
    },
    "papermill": {
     "duration": 1.594032,
     "end_time": "2020-10-29T19:29:35.317706",
     "exception": false,
     "start_time": "2020-10-29T19:29:33.723674",
     "status": "completed"
    },
    "tags": []
   },
   "outputs": [],
   "source": [
    "# importing libraries\n",
    "from sklearn.preprocessing import LabelEncoder\n",
    "from sklearn.preprocessing import OneHotEncoder\n",
    "from sklearn.preprocessing import StandardScaler\n",
    "from sklearn.impute import SimpleImputer\n",
    "from sklearn.ensemble import RandomForestClassifier\n",
    "from sklearn.metrics import confusion_matrix\n",
    "from sklearn.metrics import accuracy_score\n",
    "from sklearn.tree import DecisionTreeClassifier\n",
    "from sklearn.neighbors import KNeighborsClassifier"
   ]
  },
  {
   "cell_type": "code",
   "execution_count": 3,
   "metadata": {
    "execution": {
     "iopub.execute_input": "2020-10-29T19:29:35.350427Z",
     "iopub.status.busy": "2020-10-29T19:29:35.349563Z",
     "iopub.status.idle": "2020-10-29T19:29:35.375441Z",
     "shell.execute_reply": "2020-10-29T19:29:35.374737Z"
    },
    "papermill": {
     "duration": 0.045921,
     "end_time": "2020-10-29T19:29:35.375582",
     "exception": false,
     "start_time": "2020-10-29T19:29:35.329661",
     "status": "completed"
    },
    "tags": []
   },
   "outputs": [],
   "source": [
    "# importing datasets\n",
    "train_dataset = pd.read_csv(\"/kaggle/input/titanic/train.csv\")\n",
    "test_dataset = pd.read_csv(\"/kaggle/input/titanic/test.csv\")\n",
    "y_test_dataset = pd.read_csv(\"/kaggle/input/titanic/gender_submission.csv\")\n"
   ]
  },
  {
   "cell_type": "code",
   "execution_count": 4,
   "metadata": {
    "execution": {
     "iopub.execute_input": "2020-10-29T19:29:35.419358Z",
     "iopub.status.busy": "2020-10-29T19:29:35.414286Z",
     "iopub.status.idle": "2020-10-29T19:29:35.423911Z",
     "shell.execute_reply": "2020-10-29T19:29:35.423109Z"
    },
    "papermill": {
     "duration": 0.036341,
     "end_time": "2020-10-29T19:29:35.424041",
     "exception": false,
     "start_time": "2020-10-29T19:29:35.387700",
     "status": "completed"
    },
    "tags": []
   },
   "outputs": [],
   "source": [
    "# creating train/test and x/y splits\n",
    "x_train = train_dataset.iloc[:, [4, 6, 7]].values\n",
    "y_train = train_dataset.iloc[:, 1].values\n",
    "x_test = test_dataset.iloc[:, [3, 5, 6]].values\n",
    "y_test = y_test_dataset.iloc[:, 1].values"
   ]
  },
  {
   "cell_type": "code",
   "execution_count": 5,
   "metadata": {
    "execution": {
     "iopub.execute_input": "2020-10-29T19:29:35.460099Z",
     "iopub.status.busy": "2020-10-29T19:29:35.459246Z",
     "iopub.status.idle": "2020-10-29T19:29:35.463356Z",
     "shell.execute_reply": "2020-10-29T19:29:35.462648Z"
    },
    "papermill": {
     "duration": 0.027114,
     "end_time": "2020-10-29T19:29:35.463501",
     "exception": false,
     "start_time": "2020-10-29T19:29:35.436387",
     "status": "completed"
    },
    "tags": []
   },
   "outputs": [],
   "source": [
    "# labeling genders\n",
    "le1 = LabelEncoder()\n",
    "x_train[:, 0] = le1.fit_transform(x_train[:, 0])\n",
    "x_test[:, 0] = le1.transform(x_test[:, 0])"
   ]
  },
  {
   "cell_type": "code",
   "execution_count": 6,
   "metadata": {
    "execution": {
     "iopub.execute_input": "2020-10-29T19:29:35.502046Z",
     "iopub.status.busy": "2020-10-29T19:29:35.500957Z",
     "iopub.status.idle": "2020-10-29T19:29:35.504924Z",
     "shell.execute_reply": "2020-10-29T19:29:35.504230Z"
    },
    "papermill": {
     "duration": 0.029125,
     "end_time": "2020-10-29T19:29:35.505073",
     "exception": false,
     "start_time": "2020-10-29T19:29:35.475948",
     "status": "completed"
    },
    "tags": []
   },
   "outputs": [],
   "source": [
    "# dealing with nan data\n",
    "imp = SimpleImputer(missing_values=np.nan, strategy='mean')\n",
    "x_train_imp = imp.fit_transform(x_train)\n",
    "x_test_imp = imp.fit_transform(x_test)"
   ]
  },
  {
   "cell_type": "code",
   "execution_count": 7,
   "metadata": {
    "execution": {
     "iopub.execute_input": "2020-10-29T19:29:35.542899Z",
     "iopub.status.busy": "2020-10-29T19:29:35.541717Z",
     "iopub.status.idle": "2020-10-29T19:29:35.547755Z",
     "shell.execute_reply": "2020-10-29T19:29:35.547089Z"
    },
    "papermill": {
     "duration": 0.027628,
     "end_time": "2020-10-29T19:29:35.547906",
     "exception": false,
     "start_time": "2020-10-29T19:29:35.520278",
     "status": "completed"
    },
    "tags": []
   },
   "outputs": [],
   "source": [
    "# feature scaling\n",
    "sc = StandardScaler()\n",
    "x_train_imp = sc.fit_transform(x_train_imp)\n",
    "x_test_imp = sc.fit_transform(x_test_imp)"
   ]
  },
  {
   "cell_type": "code",
   "execution_count": 8,
   "metadata": {
    "execution": {
     "iopub.execute_input": "2020-10-29T19:29:35.588565Z",
     "iopub.status.busy": "2020-10-29T19:29:35.587727Z",
     "iopub.status.idle": "2020-10-29T19:29:36.786563Z",
     "shell.execute_reply": "2020-10-29T19:29:36.785764Z"
    },
    "papermill": {
     "duration": 1.225061,
     "end_time": "2020-10-29T19:29:36.786710",
     "exception": false,
     "start_time": "2020-10-29T19:29:35.561649",
     "status": "completed"
    },
    "tags": []
   },
   "outputs": [
    {
     "name": "stdout",
     "output_type": "stream",
     "text": [
      "\n",
      "Random Forest Classifier (entropy) results:\n",
      "confusion matrix = \n",
      "[[266   0]\n",
      " [  7 145]]\n",
      "accuracy = 0.9832535885167464\n",
      "\n",
      "Random Forest Classifier (gini) results:\n",
      "confusion matrix = \n",
      "[[266   0]\n",
      " [  5 147]]\n",
      "accuracy = 0.9880382775119617\n"
     ]
    }
   ],
   "source": [
    "# ----------------------------- RANDOM FOREST CLASSIFIER ---------------\n",
    "# training using entropy criterion\n",
    "rfc = RandomForestClassifier(n_estimators=100, criterion='entropy',max_depth=5, random_state=1, n_jobs=-1)\n",
    "rfc.fit(x_train, y_train)\n",
    "\n",
    "# predicting results\n",
    "y_pred_rfc = rfc.predict(x_test)\n",
    "\n",
    "# visualising confusion matrix & computing accuracy score\n",
    "print('\\nRandom Forest Classifier (entropy) results:')\n",
    "print('confusion matrix = \\n' + str(confusion_matrix(y_test, y_pred_rfc)))\n",
    "print('accuracy = ' + str(accuracy_score(y_test, y_pred_rfc)))\n",
    "\n",
    "# training using gini criterion\n",
    "rfc2 = RandomForestClassifier(n_estimators=100, criterion='gini', max_depth=5, random_state=1, n_jobs=-1)\n",
    "rfc2.fit(x_train_imp, y_train)\n",
    "\n",
    "# predicting results\n",
    "y_pred_rfc2 = rfc2.predict(x_test_imp)\n",
    "\n",
    "# visualising confusion matrix & computing accuracy score\n",
    "print('\\nRandom Forest Classifier (gini) results:')\n",
    "print('confusion matrix = \\n' + str(confusion_matrix(y_test, y_pred_rfc2)))\n",
    "print('accuracy = ' + str(accuracy_score(y_test, y_pred_rfc2)))"
   ]
  },
  {
   "cell_type": "code",
   "execution_count": 9,
   "metadata": {
    "execution": {
     "iopub.execute_input": "2020-10-29T19:29:36.825362Z",
     "iopub.status.busy": "2020-10-29T19:29:36.823829Z",
     "iopub.status.idle": "2020-10-29T19:29:36.839669Z",
     "shell.execute_reply": "2020-10-29T19:29:36.840715Z"
    },
    "papermill": {
     "duration": 0.039523,
     "end_time": "2020-10-29T19:29:36.840894",
     "exception": false,
     "start_time": "2020-10-29T19:29:36.801371",
     "status": "completed"
    },
    "tags": []
   },
   "outputs": [
    {
     "name": "stdout",
     "output_type": "stream",
     "text": [
      "\n",
      "Decision Tree Classifier (entropy) results:\n",
      "confusion matrix = \n",
      "[[261   5]\n",
      " [  7 145]]\n",
      "accuracy = 0.9712918660287081\n",
      "\n",
      "Decision Tree Classifier (gini) results:\n",
      "confusion matrix = \n",
      "[[261   5]\n",
      " [  7 145]]\n",
      "accuracy = 0.9712918660287081\n"
     ]
    }
   ],
   "source": [
    "# ----------------------------- DECISION TREE CLASSIFIER ---------------\n",
    "# training using entropy criterion\n",
    "dtc = DecisionTreeClassifier(criterion = 'entropy')\n",
    "dtc.fit(x_train_imp, y_train)\n",
    "\n",
    "# predicting results\n",
    "y_pred_dtc = dtc.predict(x_test_imp)\n",
    "\n",
    "# visualising confusion matrix & computing accuracy score\n",
    "print('\\nDecision Tree Classifier (entropy) results:')\n",
    "print('confusion matrix = \\n' + str(confusion_matrix(y_test, y_pred_dtc)))\n",
    "print('accuracy = ' + str(accuracy_score(y_test, y_pred_dtc)))\n",
    "\n",
    "# training using gini criterion\n",
    "dtc2 = DecisionTreeClassifier(criterion = 'gini')\n",
    "dtc2.fit(x_train_imp, y_train)\n",
    "\n",
    "# predicting results\n",
    "y_pred_dtc2 = dtc2.predict(x_test_imp)\n",
    "\n",
    "# visualising confusion matrix & computing accuracy score\n",
    "print('\\nDecision Tree Classifier (gini) results:')\n",
    "print('confusion matrix = \\n' + str(confusion_matrix(y_test, y_pred_dtc2)))\n",
    "print('accuracy = ' + str(accuracy_score(y_test, y_pred_dtc2)))"
   ]
  },
  {
   "cell_type": "code",
   "execution_count": 10,
   "metadata": {
    "execution": {
     "iopub.execute_input": "2020-10-29T19:29:36.882210Z",
     "iopub.status.busy": "2020-10-29T19:29:36.881392Z",
     "iopub.status.idle": "2020-10-29T19:29:38.047843Z",
     "shell.execute_reply": "2020-10-29T19:29:38.046706Z"
    },
    "papermill": {
     "duration": 1.193153,
     "end_time": "2020-10-29T19:29:38.048093",
     "exception": false,
     "start_time": "2020-10-29T19:29:36.854940",
     "status": "completed"
    },
    "tags": []
   },
   "outputs": [
    {
     "name": "stdout",
     "output_type": "stream",
     "text": [
      "manhattan\n",
      "accuracy of manhattan for 5 neighbor = 0.8516746411483254\n",
      "accuracy of manhattan for 6 neighbor = 0.8349282296650717\n",
      "accuracy of manhattan for 7 neighbor = 0.8588516746411483\n",
      "accuracy of manhattan for 8 neighbor = 0.9712918660287081\n",
      "accuracy of manhattan for 9 neighbor = 0.9688995215311005\n",
      "accuracy of manhattan for 10 neighbor = 0.9832535885167464\n",
      "accuracy of manhattan for 11 neighbor = 0.9688995215311005\n",
      "accuracy of manhattan for 12 neighbor = 0.9808612440191388\n",
      "accuracy of manhattan for 13 neighbor = 0.9401913875598086\n",
      "accuracy of manhattan for 14 neighbor = 0.9784688995215312\n",
      "accuracy of manhattan for 15 neighbor = 0.9784688995215312\n",
      "cosine\n",
      "accuracy of cosine for 5 neighbor = 0.9569377990430622\n",
      "accuracy of cosine for 6 neighbor = 0.9641148325358851\n",
      "accuracy of cosine for 7 neighbor = 0.9641148325358851\n",
      "accuracy of cosine for 8 neighbor = 0.9688995215311005\n",
      "accuracy of cosine for 9 neighbor = 0.9593301435406698\n",
      "accuracy of cosine for 10 neighbor = 0.9688995215311005\n",
      "accuracy of cosine for 11 neighbor = 0.9569377990430622\n",
      "accuracy of cosine for 12 neighbor = 0.9688995215311005\n",
      "accuracy of cosine for 13 neighbor = 0.9808612440191388\n",
      "accuracy of cosine for 14 neighbor = 0.9808612440191388\n",
      "accuracy of cosine for 15 neighbor = 0.9688995215311005\n",
      "euclidean\n",
      "accuracy of euclidean for 5 neighbor = 0.8492822966507177\n",
      "accuracy of euclidean for 6 neighbor = 0.8325358851674641\n",
      "accuracy of euclidean for 7 neighbor = 0.8588516746411483\n",
      "accuracy of euclidean for 8 neighbor = 0.9688995215311005\n",
      "accuracy of euclidean for 9 neighbor = 0.9688995215311005\n",
      "accuracy of euclidean for 10 neighbor = 0.9808612440191388\n",
      "accuracy of euclidean for 11 neighbor = 0.9688995215311005\n",
      "accuracy of euclidean for 12 neighbor = 0.9784688995215312\n",
      "accuracy of euclidean for 13 neighbor = 0.9401913875598086\n",
      "accuracy of euclidean for 14 neighbor = 0.9808612440191388\n",
      "accuracy of euclidean for 15 neighbor = 0.9784688995215312\n",
      "minkowski\n",
      "accuracy of minkowski for 5 neighbor = 0.8492822966507177\n",
      "accuracy of minkowski for 6 neighbor = 0.8325358851674641\n",
      "accuracy of minkowski for 7 neighbor = 0.8588516746411483\n",
      "accuracy of minkowski for 8 neighbor = 0.9688995215311005\n",
      "accuracy of minkowski for 9 neighbor = 0.9688995215311005\n",
      "accuracy of minkowski for 10 neighbor = 0.9808612440191388\n",
      "accuracy of minkowski for 11 neighbor = 0.9688995215311005\n",
      "accuracy of minkowski for 12 neighbor = 0.9784688995215312\n",
      "accuracy of minkowski for 13 neighbor = 0.9401913875598086\n",
      "accuracy of minkowski for 14 neighbor = 0.9808612440191388\n",
      "accuracy of minkowski for 15 neighbor = 0.9784688995215312\n",
      "\n",
      "K-Nearest Neighbours results:\n",
      "confusion matrix = \n",
      "[[266   0]\n",
      " [  7 145]]\n",
      "accuracy = 0.9832535885167464\n"
     ]
    }
   ],
   "source": [
    "# ----------------------------- K-NN CLASSIFIER ---------------\n",
    "# training\n",
    "distance=['manhattan','cosine','euclidean','minkowski']\n",
    "for j in range(4):\n",
    "  print(distance[j])\n",
    "  for i in range(5,16):\n",
    "    #Setup a knn classifier with k neighbors\n",
    "    knn = KNeighborsClassifier(n_neighbors=i,metric=distance[j])\n",
    "    \n",
    "    #Fit the model\n",
    "    knn.fit(x_train_imp, y_train)\n",
    "    # Predicting the test set results\n",
    "    y_pred_knn = knn.predict(x_test_imp)\n",
    "    print('accuracy of ' + distance[j] +' for '+ str(i) +' neighbor = ' + str(accuracy_score(y_test, y_pred_knn)))\n",
    "    \n",
    "\n",
    "#highest accuracy was of manhanton distance at the neighbor count of 10\n",
    "knn = KNeighborsClassifier(n_neighbors=10,metric='manhattan')\n",
    "knn.fit(x_train_imp, y_train)\n",
    "y_pred_knn = knn.predict(x_test_imp)\n",
    "\n",
    "\n",
    "# visualising confusion matrix & computing accuracy score\n",
    "print('\\nK-Nearest Neighbours results:')\n",
    "print('confusion matrix = \\n' + str(confusion_matrix(y_test, y_pred_knn)))\n",
    "print('accuracy = ' + str(accuracy_score(y_test, y_pred_knn)))"
   ]
  },
  {
   "cell_type": "code",
   "execution_count": 11,
   "metadata": {
    "execution": {
     "iopub.execute_input": "2020-10-29T19:29:38.107906Z",
     "iopub.status.busy": "2020-10-29T19:29:38.107036Z",
     "iopub.status.idle": "2020-10-29T19:29:38.550568Z",
     "shell.execute_reply": "2020-10-29T19:29:38.548939Z"
    },
    "papermill": {
     "duration": 0.478157,
     "end_time": "2020-10-29T19:29:38.550727",
     "exception": false,
     "start_time": "2020-10-29T19:29:38.072570",
     "status": "completed"
    },
    "tags": []
   },
   "outputs": [
    {
     "name": "stdout",
     "output_type": "stream",
     "text": [
      "Your submission was successfully saved!\n"
     ]
    },
    {
     "data": {
      "text/html": [
       "<div>\n",
       "<style scoped>\n",
       "    .dataframe tbody tr th:only-of-type {\n",
       "        vertical-align: middle;\n",
       "    }\n",
       "\n",
       "    .dataframe tbody tr th {\n",
       "        vertical-align: top;\n",
       "    }\n",
       "\n",
       "    .dataframe thead th {\n",
       "        text-align: right;\n",
       "    }\n",
       "</style>\n",
       "<table border=\"1\" class=\"dataframe\">\n",
       "  <thead>\n",
       "    <tr style=\"text-align: right;\">\n",
       "      <th></th>\n",
       "      <th>PassengerId</th>\n",
       "      <th>Survived</th>\n",
       "    </tr>\n",
       "  </thead>\n",
       "  <tbody>\n",
       "    <tr>\n",
       "      <th>0</th>\n",
       "      <td>892</td>\n",
       "      <td>0</td>\n",
       "    </tr>\n",
       "    <tr>\n",
       "      <th>1</th>\n",
       "      <td>893</td>\n",
       "      <td>1</td>\n",
       "    </tr>\n",
       "    <tr>\n",
       "      <th>2</th>\n",
       "      <td>894</td>\n",
       "      <td>0</td>\n",
       "    </tr>\n",
       "    <tr>\n",
       "      <th>3</th>\n",
       "      <td>895</td>\n",
       "      <td>0</td>\n",
       "    </tr>\n",
       "    <tr>\n",
       "      <th>4</th>\n",
       "      <td>896</td>\n",
       "      <td>1</td>\n",
       "    </tr>\n",
       "  </tbody>\n",
       "</table>\n",
       "</div>"
      ],
      "text/plain": [
       "   PassengerId  Survived\n",
       "0          892         0\n",
       "1          893         1\n",
       "2          894         0\n",
       "3          895         0\n",
       "4          896         1"
      ]
     },
     "execution_count": 11,
     "metadata": {},
     "output_type": "execute_result"
    }
   ],
   "source": [
    "# ----------------------------- EXPORTING BEST RESULT ---------------\n",
    "#best result was produced by RANDOM FOREST CLASSIFIER at criterion='entropy'\n",
    "\n",
    "output = pd.DataFrame({'PassengerId': test_dataset.PassengerId, 'Survived': y_pred_rfc2 })\n",
    "output.to_csv('my_submission.csv', index=False)\n",
    "print(\"Your submission was successfully saved!\")\n",
    "submition = pd.read_csv(\"my_submission.csv\")\n",
    "submition.head()\n",
    "\n",
    "#result = []\n",
    "#for i in range(892, 1310):\n",
    "#    row = [i, y_pred_knn[i - 892]]\n",
    "#    result.append(row)\n",
    "#import csv\n",
    "#with open('titanic_result_knn.csv', \"w+\") as csv_file:\n",
    "#    csvWriter = csv.writer(csv_file, delimiter = ',')\n",
    "#    csvWriter.writerows(result)"
   ]
  },
  {
   "cell_type": "code",
   "execution_count": null,
   "metadata": {
    "papermill": {
     "duration": 0.021987,
     "end_time": "2020-10-29T19:29:38.594829",
     "exception": false,
     "start_time": "2020-10-29T19:29:38.572842",
     "status": "completed"
    },
    "tags": []
   },
   "outputs": [],
   "source": []
  }
 ],
 "metadata": {
  "kernelspec": {
   "display_name": "Python 3",
   "language": "python",
   "name": "python3"
  },
  "language_info": {
   "codemirror_mode": {
    "name": "ipython",
    "version": 3
   },
   "file_extension": ".py",
   "mimetype": "text/x-python",
   "name": "python",
   "nbconvert_exporter": "python",
   "pygments_lexer": "ipython3",
   "version": "3.7.6"
  },
  "papermill": {
   "duration": 10.391432,
   "end_time": "2020-10-29T19:29:38.726710",
   "environment_variables": {},
   "exception": null,
   "input_path": "__notebook__.ipynb",
   "output_path": "__notebook__.ipynb",
   "parameters": {},
   "start_time": "2020-10-29T19:29:28.335278",
   "version": "2.1.0"
  }
 },
 "nbformat": 4,
 "nbformat_minor": 4
}
